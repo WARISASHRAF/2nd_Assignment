{
 "cells": [
  {
   "cell_type": "code",
   "execution_count": 1,
   "id": "a7289dd2",
   "metadata": {},
   "outputs": [],
   "source": [
    "import matplotlib.pyplot as plt\n",
    "import numpy as np\n",
    "import pandas as pd\n",
    "s = pd.read_csv('jsrt_metadata.csv')\n",
    "s.replace('?',np.nan,inplace=True)\n",
    "replacing_value=Harron[\"subtlety\"].astype(\"float\").mean(axis=0)\n",
    "s=(int(replacing_value))\n",
    "s['subtlety'].replace(np.nan,s,inplace=True)\n",
    "h=s['state'].value_counts()\n",
    "h\n",
    "c=[25,122,50,38,12]\n",
    "v=[1,2,3,4,5]\n",
    "plt.bar(v,c,color='red')\n",
    "plt.title(\"Helicopter)\n",
    "plt.ylabel(\"Y\")\n",
    "plt.xlabel(\"X\")\n",
    "plt.show()"
   ]
  }
 ],
 "metadata": {
  "kernelspec": {
   "display_name": "Python 3 (ipykernel)",
   "language": "python",
   "name": "python3"
  },
  "language_info": {
   "codemirror_mode": {
    "name": "ipython",
    "version": 3
   },
   "file_extension": ".py",
   "mimetype": "text/x-python",
   "name": "python",
   "nbconvert_exporter": "python",
   "pygments_lexer": "ipython3",
   "version": "3.9.4"
  }
 },
 "nbformat": 4,
 "nbformat_minor": 5
}
